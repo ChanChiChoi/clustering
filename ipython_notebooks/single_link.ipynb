{
 "cells": [
  {
   "cell_type": "markdown",
   "metadata": {},
   "source": [
    "## Load numpy"
   ]
  },
  {
   "cell_type": "code",
   "execution_count": null,
   "metadata": {
    "collapsed": true
   },
   "outputs": [],
   "source": [
    "import numpy as np"
   ]
  },
  {
   "cell_type": "markdown",
   "metadata": {},
   "source": [
    "### define \"euclidean distance\" function and \"signle link function\""
   ]
  },
  {
   "cell_type": "code",
   "execution_count": 7,
   "metadata": {
    "collapsed": true
   },
   "outputs": [],
   "source": [
    "def lp_mat(X,Y,p=2):\n",
    "    '''\n",
    "    this is a \"Dissimilarity Measure\"\n",
    "    lp_DM_mat(X,Y,1) is equal :\n",
    "    >>> from sklearn.metrics.pairwise import manhattan_distances\n",
    "    >>> manhattan_distances(X,Y,sum_over_features=True))\n",
    "    \n",
    "    outputs:\n",
    "    distanceP: n_sample_X by n_sample_Y matrix\n",
    "\n",
    "    example:\n",
    "    >>> X = np.ones([1,2])\n",
    "    >>> Y = 2*np.ones([2,2])\n",
    "    >>> lp_DM_mat(X,Y)\n",
    "    [[2,2]]\n",
    "    '''\n",
    "    assert p>0, 'p must bigger than 0'\n",
    "    D = X[:, np.newaxis, :] - Y[np.newaxis, :, :]\n",
    "    absMat = np.power(np.abs(D),p)\n",
    "    sumAbsMat = absMat.sum(2)\n",
    "    distanceP = np.power(sumAbsMat,1.0/p)\n",
    "    return distanceP\n",
    "\n",
    "def _single_link(dCiCs,dCjCs, isSim = False):\n",
    "    dCqCs = max(dCiCs,dCjCs) if isSim else min(dCiCs,dCjCs)\n",
    "    return dCqCs\n"
   ]
  },
  {
   "cell_type": "markdown",
   "metadata": {},
   "source": [
    "define the MUAS class, which can compatible other algorithm by modify a little code"
   ]
  },
  {
   "cell_type": "code",
   "execution_count": 48,
   "metadata": {},
   "outputs": [],
   "source": [
    "class MUAS(object):\n",
    "    '''\n",
    "    Matrix Updating Algorithmic Scheme\n",
    "    '''\n",
    "    def __init__(self,n_component = None,affinity=\"euclidean\"):\n",
    "        self.n_component = n_component\n",
    "        self.breakFlag = True\n",
    "        self.affinity = affinity\n",
    "        \n",
    "    def fit(self, X, y = None):\n",
    "        if self.affinity == 'precomputed':\n",
    "            self.oldP = X\n",
    "        else:\n",
    "            self.oldP = lp_mat(X,X,2)\n",
    "        \n",
    "        row,col = self.oldP.shape\n",
    "        self.oldP = np.tri(row,col,-1).T*self.oldP#assign the below tri matrix value 0\n",
    "        self.yLi = [[i]  for i in  np.arange(row)]# each row(label) has each's point set\n",
    "        \n",
    "        while self.breakFlag:\n",
    "            \n",
    "            row,col = self.oldP.shape\n",
    "            if row == 2: self.breakFlag = False\n",
    "                \n",
    "            #find the i and j, which will be into q\n",
    "            Ci,Cj = np.where(self.oldP == np.unique(self.oldP)[1])\n",
    "            Ci,Cj = Ci[0],Cj[0]\n",
    "\n",
    "            Cq,Ctmp = (Ci,Cj) if Ci<Cj else (Cj,Ci)\n",
    "            \n",
    "            #extend later points set into before points set\n",
    "            self.yLi[Cq].extend(self.yLi[Ctmp])\n",
    "            self.yLi.pop(Ctmp)\n",
    "            \n",
    "            self.newP = self.oldP.copy()\n",
    "            \n",
    "            #update the sim matrix on the origin matrix structure\n",
    "            for i in range(1,row):\n",
    "                if i==Ci or i==Cj: continue\n",
    "                self.newP[Cq,i] = _single_link(self.oldP[Ci,i],self.oldP[Cj,i])\n",
    "            #delete the Ctmp row and col\n",
    "            self.newP = np.delete(self.newP,Ctmp,0)\n",
    "            self.newP = np.delete(self.newP,Ctmp,1)    \n",
    "            self.oldP = self.newP\n",
    "            \n",
    "            if len(self.yLi) == self.n_component: break \n",
    "        return self.yLi           "
   ]
  },
  {
   "cell_type": "code",
   "execution_count": 49,
   "metadata": {},
   "outputs": [
    {
     "name": "stdout",
     "output_type": "stream",
     "text": [
      "[[0, 1], [2], [3], [4]]\n",
      "[[0, 1], [2], [3, 4]]\n"
     ]
    }
   ],
   "source": [
    "X = np.array([[0, 1, 2, 26, 37],\n",
    "             [1, 0, 3, 25, 36],\n",
    "             [2, 3, 0, 16, 25],\n",
    "             [26,25,16,0,  1.5],\n",
    "             [37,36,25,1.5,0]])\n",
    "\n",
    "muas = MUAS(2,affinity = 'precomputed')\n",
    "y = muas.fit(X)"
   ]
  },
  {
   "cell_type": "code",
   "execution_count": 47,
   "metadata": {},
   "outputs": [
    {
     "data": {
      "text/plain": [
       "[[0, 1, 2], [3, 4]]"
      ]
     },
     "execution_count": 47,
     "metadata": {},
     "output_type": "execute_result"
    }
   ],
   "source": [
    "y"
   ]
  },
  {
   "cell_type": "code",
   "execution_count": null,
   "metadata": {
    "collapsed": true
   },
   "outputs": [],
   "source": []
  }
 ],
 "metadata": {
  "kernelspec": {
   "display_name": "Python 3",
   "language": "python",
   "name": "python3"
  },
  "language_info": {
   "codemirror_mode": {
    "name": "ipython",
    "version": 3
   },
   "file_extension": ".py",
   "mimetype": "text/x-python",
   "name": "python",
   "nbconvert_exporter": "python",
   "pygments_lexer": "ipython3",
   "version": "3.6.1"
  }
 },
 "nbformat": 4,
 "nbformat_minor": 2
}
