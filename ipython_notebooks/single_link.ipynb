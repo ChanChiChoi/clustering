{
 "cells": [
  {
   "cell_type": "code",
   "execution_count": 2,
   "metadata": {
    "collapsed": true
   },
   "outputs": [],
   "source": [
    "import numpy as np"
   ]
  },
  {
   "cell_type": "code",
   "execution_count": 3,
   "metadata": {},
   "outputs": [],
   "source": []
  },
  {
   "cell_type": "code",
   "execution_count": 4,
   "metadata": {
    "collapsed": true
   },
   "outputs": [],
   "source": [
    "def lp_mat(X,Y,p=2):\n",
    "    '''\n",
    "    this is a \"Dissimilarity Measure\"\n",
    "    lp_DM_mat(X,Y,1) is equal :\n",
    "    >>> from sklearn.metrics.pairwise import manhattan_distances\n",
    "    >>> manhattan_distances(X,Y,sum_over_features=True))\n",
    "    \n",
    "    outputs:\n",
    "    distanceP: n_sample_X by n_sample_Y matrix\n",
    "\n",
    "    example:\n",
    "    >>> X = np.ones([1,2])\n",
    "    >>> Y = 2*np.ones([2,2])\n",
    "    >>> lp_DM_mat(X,Y)\n",
    "    [[2,2]]\n",
    "    '''\n",
    "    assert p>0, 'p must bigger than 0'\n",
    "    D = X[:, np.newaxis, :] - Y[np.newaxis, :, :]\n",
    "    absMat = np.power(np.abs(D),p)\n",
    "    sumAbsMat = absMat.sum(2)\n",
    "    distanceP = np.power(sumAbsMat,1.0/p)\n",
    "    return distanceP\n"
   ]
  },
  {
   "cell_type": "code",
   "execution_count": null,
   "metadata": {
    "collapsed": true
   },
   "outputs": [],
   "source": [
    "class MUAS(object):\n",
    "    '''\n",
    "    Matrix Updating Algorithmic Scheme\n",
    "    '''\n",
    "    def __init__(self,n_component = None):\n",
    "        self.n_component = n_component\n",
    "        self.break = True\n",
    "    def fit(self, X, y = None):\n",
    "        self.oldP = lp_mat(X,X,2)\n",
    "        self.y ={i:i  for i in  np.arange(self.oldP.shape[0])}# each label has each's point set\n",
    "        while self.break:\n",
    "            row,col = self.oldP.shape\n",
    "            if row == 2: self.break = False\n",
    "            #find the i and j\n",
    "            Ci,Cj = np.where(self.oldP == np.unique(self.oldP)[1])[0]\n",
    "            self.newP = np.zeros(row-1,row-1)\n",
    "            "
   ]
  },
  {
   "cell_type": "code",
   "execution_count": 7,
   "metadata": {},
   "outputs": [
    {
     "name": "stdout",
     "output_type": "stream",
     "text": [
      "The slowest run took 12.54 times longer than the fastest. This could mean that an intermediate result is being cached.\n",
      "100000 loops, best of 3: 15.2 µs per loop\n"
     ]
    }
   ],
   "source": [
    "\n",
    "P = lp_mat(X,X,2)"
   ]
  },
  {
   "cell_type": "code",
   "execution_count": 11,
   "metadata": {},
   "outputs": [
    {
     "data": {
      "text/plain": [
       "(array([0, 1]), array([1, 0]))"
      ]
     },
     "execution_count": 11,
     "metadata": {},
     "output_type": "execute_result"
    }
   ],
   "source": [
    "rowx,rowy = np.where(P==np.unique(P)[1])\n",
    "rowx,rowy"
   ]
  },
  {
   "cell_type": "code",
   "execution_count": null,
   "metadata": {
    "collapsed": true
   },
   "outputs": [],
   "source": [
    "X = np.array([[1,1],[2,1],[5,4],[6,5],[6.5,6]])\n",
    "muas = MUAS(2)\n",
    "y = muas.fit(X)"
   ]
  }
 ],
 "metadata": {
  "kernelspec": {
   "display_name": "Python 3",
   "language": "python",
   "name": "python3"
  },
  "language_info": {
   "codemirror_mode": {
    "name": "ipython",
    "version": 3
   },
   "file_extension": ".py",
   "mimetype": "text/x-python",
   "name": "python",
   "nbconvert_exporter": "python",
   "pygments_lexer": "ipython3",
   "version": "3.6.1"
  }
 },
 "nbformat": 4,
 "nbformat_minor": 2
}
